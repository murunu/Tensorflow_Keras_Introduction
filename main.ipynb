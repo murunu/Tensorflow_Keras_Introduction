{
 "cells": [
  {
   "cell_type": "markdown",
   "metadata": {
    "pycharm": {
     "name": "#%% md\n"
    }
   },
   "source": [
    "## Introduction\n",
    "This notebook is made for training and making predictions for our golf ball prediction project.  \n",
    "This is a project where we want to get a lot of prediction data out of a video where a person hits a golf ball.\n",
    "\n",
    "\n",
    "For this part of the project we will be matching the data we get from the videos with the data from simulations we ran.  \n",
    "To do this we are going to use Tensorflow, more specifically a deep learning API running on top of Tensorflow called `Keras`.  \n",
    "\n",
    "\n",
    "At the end of this notebook we will have a trained model and we will be able to make a prediction of how hard you hit a golf ball (and some other data) on all of the video data we put in to the model.\n",
    "\n",
    "**Make sure to use an environment with [Tensorflow](https://www.tensorflow.org/install) and [MatPlotLib](https://matplotlib.org/stable/users/installing/index.html) installed.**\n",
    "\n",
    "If you are just starting out using Python make sure to read about [Virtual environments](https://virtualenv.pypa.io/en/latest/)."
   ]
  },
  {
   "cell_type": "markdown",
   "metadata": {},
   "source": [
    "\n",
    "### Table of contents\n",
    "1. Imports\n",
    "1. Get dataset\n",
    "1. Make or import the model\n",
    "1. Train the model\n",
    "1. Get plot from history\n",
    "1. Save the model\n",
    "1. Predict something"
   ]
  },
  {
   "cell_type": "markdown",
   "metadata": {},
   "source": [
    "You can also run the following lines of code to install the required dependencies"
   ]
  },
  {
   "cell_type": "code",
   "execution_count": 11,
   "metadata": {},
   "outputs": [
    {
     "name": "stdout",
     "output_type": "stream",
     "text": [
      "Requirement already satisfied: tensorflow in c:\\users\\moren\\.conda\\envs\\keras\\lib\\site-packages (2.6.0)\n",
      "Requirement already satisfied: six>=1.15.0 in c:\\users\\moren\\.conda\\envs\\keras\\lib\\site-packages (from tensorflow) (1.16.0)\n",
      "Requirement already satisfied: gast==0.4.0 in c:\\users\\moren\\.conda\\envs\\keras\\lib\\site-packages (from tensorflow) (0.4.0)\n",
      "Requirement already satisfied: tensorboard~=2.6 in c:\\users\\moren\\.conda\\envs\\keras\\lib\\site-packages (from tensorflow) (2.6.0)\n",
      "Requirement already satisfied: protobuf>=3.9.2 in c:\\users\\moren\\.conda\\envs\\keras\\lib\\site-packages (from tensorflow) (3.17.2)\n",
      "Requirement already satisfied: wrapt>=1.11.2 in c:\\users\\moren\\.conda\\envs\\keras\\lib\\site-packages (from tensorflow) (1.13.3)\n",
      "Requirement already satisfied: keras>=2.4.0 in c:\\users\\moren\\.conda\\envs\\keras\\lib\\site-packages (from tensorflow) (2.6.0)\n",
      "Requirement already satisfied: termcolor>=1.1.0 in c:\\users\\moren\\.conda\\envs\\keras\\lib\\site-packages (from tensorflow) (1.1.0)\n",
      "Collecting clang~=5.0\n",
      "  Downloading clang-5.0.tar.gz (30 kB)\n",
      "Requirement already satisfied: keras-preprocessing>=1.1.2 in c:\\users\\moren\\.conda\\envs\\keras\\lib\\site-packages (from tensorflow) (1.1.2)\n",
      "Requirement already satisfied: numpy>=1.19 in c:\\users\\moren\\.conda\\envs\\keras\\lib\\site-packages (from tensorflow) (1.22.3)\n",
      "Requirement already satisfied: tensorflow-estimator~=2.6 in c:\\users\\moren\\.conda\\envs\\keras\\lib\\site-packages (from tensorflow) (2.6.0)\n",
      "Requirement already satisfied: wheel>=0.35 in c:\\users\\moren\\.conda\\envs\\keras\\lib\\site-packages (from tensorflow) (0.35.1)\n",
      "Requirement already satisfied: absl-py~=0.10 in c:\\users\\moren\\.conda\\envs\\keras\\lib\\site-packages (from tensorflow) (0.15.0)\n",
      "Collecting flatbuffers~=1.12\n",
      "  Using cached flatbuffers-1.12-py2.py3-none-any.whl (15 kB)\n",
      "Requirement already satisfied: opt-einsum~=3.3.0 in c:\\users\\moren\\.conda\\envs\\keras\\lib\\site-packages (from tensorflow) (3.3.0)\n",
      "Requirement already satisfied: typing-extensions>=3.7.4 in c:\\users\\moren\\.conda\\envs\\keras\\lib\\site-packages (from tensorflow) (4.1.1)\n",
      "Requirement already satisfied: google-pasta~=0.2 in c:\\users\\moren\\.conda\\envs\\keras\\lib\\site-packages (from tensorflow) (0.2.0)\n",
      "Requirement already satisfied: h5py>=3.1.0 in c:\\users\\moren\\.conda\\envs\\keras\\lib\\site-packages (from tensorflow) (3.6.0)\n",
      "Requirement already satisfied: astunparse~=1.6.3 in c:\\users\\moren\\.conda\\envs\\keras\\lib\\site-packages (from tensorflow) (1.6.3)\n",
      "Requirement already satisfied: grpcio<2.0,>=1.37.0 in c:\\users\\moren\\.conda\\envs\\keras\\lib\\site-packages (from tensorflow) (1.42.0)\n",
      "Requirement already satisfied: tensorboard-data-server<0.7.0,>=0.6.0 in c:\\users\\moren\\.conda\\envs\\keras\\lib\\site-packages (from tensorboard~=2.6->tensorflow) (0.6.0)\n",
      "Requirement already satisfied: markdown>=2.6.8 in c:\\users\\moren\\.conda\\envs\\keras\\lib\\site-packages (from tensorboard~=2.6->tensorflow) (3.3.4)\n",
      "Collecting google-auth<2,>=1.6.3\n",
      "  Downloading google_auth-1.35.0-py2.py3-none-any.whl (152 kB)\n",
      "Requirement already satisfied: requests<3,>=2.21.0 in c:\\users\\moren\\.conda\\envs\\keras\\lib\\site-packages (from tensorboard~=2.6->tensorflow) (2.27.1)\n",
      "Requirement already satisfied: google-auth-oauthlib<0.5,>=0.4.1 in c:\\users\\moren\\.conda\\envs\\keras\\lib\\site-packages (from tensorboard~=2.6->tensorflow) (0.4.1)\n",
      "Requirement already satisfied: werkzeug>=0.11.15 in c:\\users\\moren\\.conda\\envs\\keras\\lib\\site-packages (from tensorboard~=2.6->tensorflow) (2.0.3)\n",
      "Requirement already satisfied: setuptools>=41.0.0 in c:\\users\\moren\\.conda\\envs\\keras\\lib\\site-packages (from tensorboard~=2.6->tensorflow) (61.2.0)\n",
      "Requirement already satisfied: tensorboard-plugin-wit>=1.6.0 in c:\\users\\moren\\.conda\\envs\\keras\\lib\\site-packages (from tensorboard~=2.6->tensorflow) (1.6.0)\n",
      "Requirement already satisfied: rsa<5,>=3.1.4 in c:\\users\\moren\\.conda\\envs\\keras\\lib\\site-packages (from google-auth<2,>=1.6.3->tensorboard~=2.6->tensorflow) (4.7.2)\n",
      "Requirement already satisfied: cachetools<5.0,>=2.0.0 in c:\\users\\moren\\.conda\\envs\\keras\\lib\\site-packages (from google-auth<2,>=1.6.3->tensorboard~=2.6->tensorflow) (4.2.2)\n",
      "Requirement already satisfied: pyasn1-modules>=0.2.1 in c:\\users\\moren\\.conda\\envs\\keras\\lib\\site-packages (from google-auth<2,>=1.6.3->tensorboard~=2.6->tensorflow) (0.2.8)\n",
      "Requirement already satisfied: requests-oauthlib>=0.7.0 in c:\\users\\moren\\.conda\\envs\\keras\\lib\\site-packages (from google-auth-oauthlib<0.5,>=0.4.1->tensorboard~=2.6->tensorflow) (1.3.0)\n",
      "Requirement already satisfied: pyasn1<0.5.0,>=0.4.6 in c:\\users\\moren\\.conda\\envs\\keras\\lib\\site-packages (from pyasn1-modules>=0.2.1->google-auth<2,>=1.6.3->tensorboard~=2.6->tensorflow) (0.4.8)\n",
      "Requirement already satisfied: urllib3<1.27,>=1.21.1 in c:\\users\\moren\\.conda\\envs\\keras\\lib\\site-packages (from requests<3,>=2.21.0->tensorboard~=2.6->tensorflow) (1.26.9)\n",
      "Requirement already satisfied: charset-normalizer~=2.0.0 in c:\\users\\moren\\.conda\\envs\\keras\\lib\\site-packages (from requests<3,>=2.21.0->tensorboard~=2.6->tensorflow) (2.0.4)\n",
      "Requirement already satisfied: idna<4,>=2.5 in c:\\users\\moren\\.conda\\envs\\keras\\lib\\site-packages (from requests<3,>=2.21.0->tensorboard~=2.6->tensorflow) (3.3)\n",
      "Requirement already satisfied: certifi>=2017.4.17 in c:\\users\\moren\\.conda\\envs\\keras\\lib\\site-packages (from requests<3,>=2.21.0->tensorboard~=2.6->tensorflow) (2022.5.18.1)\n",
      "Requirement already satisfied: oauthlib>=3.0.0 in c:\\users\\moren\\.conda\\envs\\keras\\lib\\site-packages (from requests-oauthlib>=0.7.0->google-auth-oauthlib<0.5,>=0.4.1->tensorboard~=2.6->tensorflow) (3.2.0)\n",
      "Building wheels for collected packages: clang\n",
      "  Building wheel for clang (setup.py): started\n",
      "  Building wheel for clang (setup.py): finished with status 'done'\n",
      "  Created wheel for clang: filename=clang-5.0-py3-none-any.whl size=30701 sha256=aacb0a8d51c3020126e887f2ae2691bcedcd2851289ad3ba55973f69f0bd52ae\n",
      "  Stored in directory: c:\\users\\moren\\appdata\\local\\pip\\cache\\wheels\\3a\\ce\\7a\\27094f689461801c934296d07078773603663dfcaca63bb064\n",
      "Successfully built clang\n",
      "Installing collected packages: google-auth, flatbuffers, clang\n",
      "  Attempting uninstall: google-auth\n",
      "    Found existing installation: google-auth 2.6.0\n",
      "    Uninstalling google-auth-2.6.0:\n",
      "      Successfully uninstalled google-auth-2.6.0\n",
      "  Attempting uninstall: flatbuffers\n",
      "    Found existing installation: flatbuffers 20210226132247\n",
      "    Uninstalling flatbuffers-20210226132247:\n",
      "      Successfully uninstalled flatbuffers-20210226132247\n",
      "Successfully installed clang-5.0 flatbuffers-1.12 google-auth-1.35.0\n",
      "Requirement already satisfied: matplotlib in c:\\users\\moren\\.conda\\envs\\keras\\lib\\site-packages (3.5.2)\n",
      "Requirement already satisfied: python-dateutil>=2.7 in c:\\users\\moren\\.conda\\envs\\keras\\lib\\site-packages (from matplotlib) (2.8.2)\n",
      "Requirement already satisfied: kiwisolver>=1.0.1 in c:\\users\\moren\\.conda\\envs\\keras\\lib\\site-packages (from matplotlib) (1.4.2)\n",
      "Requirement already satisfied: cycler>=0.10 in c:\\users\\moren\\.conda\\envs\\keras\\lib\\site-packages (from matplotlib) (0.11.0)\n",
      "Requirement already satisfied: fonttools>=4.22.0 in c:\\users\\moren\\.conda\\envs\\keras\\lib\\site-packages (from matplotlib) (4.33.3)\n",
      "Requirement already satisfied: packaging>=20.0 in c:\\users\\moren\\.conda\\envs\\keras\\lib\\site-packages (from matplotlib) (21.3)\n",
      "Requirement already satisfied: pyparsing>=2.2.1 in c:\\users\\moren\\.conda\\envs\\keras\\lib\\site-packages (from matplotlib) (3.0.4)\n",
      "Requirement already satisfied: numpy>=1.17 in c:\\users\\moren\\.conda\\envs\\keras\\lib\\site-packages (from matplotlib) (1.22.3)\n",
      "Requirement already satisfied: pillow>=6.2.0 in c:\\users\\moren\\.conda\\envs\\keras\\lib\\site-packages (from matplotlib) (9.0.1)\n",
      "Requirement already satisfied: six>=1.5 in c:\\users\\moren\\.conda\\envs\\keras\\lib\\site-packages (from python-dateutil>=2.7->matplotlib) (1.16.0)\n"
     ]
    }
   ],
   "source": [
    "!pip install tensorflow\n",
    "!pip install matplotlib"
   ]
  },
  {
   "cell_type": "markdown",
   "metadata": {},
   "source": [
    "## 1. Imports"
   ]
  },
  {
   "cell_type": "code",
   "execution_count": 1,
   "metadata": {
    "pycharm": {
     "name": "#%%\n"
    }
   },
   "outputs": [],
   "source": [
    "import os\n",
    "\n",
    "import numpy as np\n",
    "import tensorflow as tf\n",
    "import json\n",
    "from matplotlib import pyplot as plt\n",
    "from keras.callbacks import ModelCheckpoint"
   ]
  },
  {
   "cell_type": "markdown",
   "metadata": {},
   "source": [
    "## 2. Get dataset\n",
    "\n",
    "This function will get data from the folder \"datasets\" and convert every json file to [Tensorflow Tensors](https://www.tensorflow.org/api_docs/python/tf/Tensor).  \n",
    "We need these Tensors because that is an expected input for training the model later.\n",
    "\n",
    "Because the json array we get is a nested array we need to \"flatten\" the data first, we do this using a [Tensorflow flatten function](https://www.tensorflow.org/api_docs/python/tf/nest/flatten)  \n",
    "After the input is flattened you can simply [Convert to tensor](https://www.tensorflow.org/api_docs/python/tf/convert_to_tensor) and use this tensor as an input or output when training the model.\n",
    "\n",
    "At first we will be loading some random data in case there is no datasets directory.\n",
    "\n",
    "To use your own data, create a `datasets` directory and put some json files in it. The block of code below will then use this file to train the model."
   ]
  },
  {
   "cell_type": "code",
   "execution_count": 12,
   "metadata": {},
   "outputs": [],
   "source": [
    "#define some random data\n",
    "random_data = \"\"\"\n",
    "{\n",
    "    \"inputs\": [\n",
    "      {\n",
    "        \"time\": 1,\n",
    "        \"coordinatesInput\": {\n",
    "          \"x1\": 1,\n",
    "          \"x2\": 2,\n",
    "          \"y1\": 1,\n",
    "          \"y2\": 2\n",
    "        }\n",
    "      },\n",
    "      {\n",
    "        \"time\": 2,\n",
    "        \"coordinatesInput\": {\n",
    "          \"x1\": 2,\n",
    "          \"x2\": 3,\n",
    "          \"y1\": 2,\n",
    "          \"y2\": 3\n",
    "        }\n",
    "      },\n",
    "      {\n",
    "        \"time\": 3,\n",
    "        \"coordinatesInput\": {\n",
    "          \"x1\": 3,\n",
    "          \"x2\": 4,\n",
    "          \"y1\": 3,\n",
    "          \"y2\": 4\n",
    "        }\n",
    "      },\n",
    "      {\n",
    "        \"time\": 4,\n",
    "        \"coordinatesInput\": {\n",
    "          \"x1\": 4,\n",
    "          \"x2\": 5,\n",
    "          \"y1\": 4,\n",
    "          \"y2\": 5\n",
    "        }\n",
    "      }\n",
    "    ],\n",
    "    \"outputs\": {\n",
    "      \"speed\": 45,\n",
    "      \"angle\": 45,\n",
    "      \"spinAxis\": 45,\n",
    "      \"distance\": 45,\n",
    "      \"rpm\": 1000,\n",
    "      \"resultData\": [\n",
    "        {\n",
    "          \"time\": 1,\n",
    "          \"coordinatesOutput\": {\n",
    "            \"x\": 1,\n",
    "            \"y\": 1,\n",
    "            \"z\": 1\n",
    "          }\n",
    "        },\n",
    "        {\n",
    "          \"time\": 2,\n",
    "          \"coordinatesOutput\": {\n",
    "            \"x\": 2,\n",
    "            \"y\": 2,\n",
    "            \"z\": 2\n",
    "          }\n",
    "        },\n",
    "        {\n",
    "          \"time\": 3,\n",
    "          \"coordinatesOutput\": {\n",
    "            \"x\": 3,\n",
    "            \"y\": 3,\n",
    "            \"z\": 3\n",
    "          }\n",
    "        },\n",
    "        {\n",
    "          \"time\": 4,\n",
    "          \"coordinatesOutput\": {\n",
    "            \"x\": 4,\n",
    "            \"y\": 4,\n",
    "            \"z\": 4\n",
    "          }\n",
    "        }\n",
    "      ]\n",
    "    }\n",
    "  }\n",
    "\"\"\""
   ]
  },
  {
   "cell_type": "code",
   "execution_count": 28,
   "metadata": {
    "collapsed": true,
    "pycharm": {
     "name": "#%%\n"
    }
   },
   "outputs": [
    {
     "name": "stdout",
     "output_type": "stream",
     "text": [
      "No files found in datasets directory using random data defined before\n",
      "input: [{'time': 1, 'coordinatesInput': {'x1': 1, 'x2': 2, 'y1': 1, 'y2': 2}}, {'time': 2, 'coordinatesInput': {'x1': 2, 'x2': 3, 'y1': 2, 'y2': 3}}, {'time': 3, 'coordinatesInput': {'x1': 3, 'x2': 4, 'y1': 3, 'y2': 4}}, {'time': 4, 'coordinatesInput': {'x1': 4, 'x2': 5, 'y1': 4, 'y2': 5}}] \n",
      "\n",
      "flattened input: [1, 2, 1, 2, 1, 2, 3, 2, 3, 2, 3, 4, 3, 4, 3, 4, 5, 4, 5, 4] \n",
      "\n",
      "tensor input: tf.Tensor([[1 2 1 2 1 2 3 2 3 2 3 4 3 4 3 4 5 4 5 4]], shape=(1, 20), dtype=int32)\n"
     ]
    }
   ],
   "source": [
    "directory = os.path.join(os.getcwd(), \"datasets\")\n",
    "all_input_files = np.array([])\n",
    "input = []\n",
    "output = []\n",
    "\n",
    "if os.path.isdir(directory):\n",
    "    for filename in os.listdir(directory):\n",
    "        if filename.endswith(\".json\"):\n",
    "            all_input_files = np.append(all_input_files, filename)\n",
    "        else:\n",
    "            continue\n",
    "\n",
    "    for i in range(len(all_input_files)):\n",
    "        x = json.load(open(os.path.join(directory, all_input_files[i])))\n",
    "\n",
    "        print(f\"input {i}:\", x[\"inputs\"], \"\\n\")\n",
    "        print(f\"flattened input {i}:\", tf.nest.flatten(x[\"inputs\"]), \"\\n\")\n",
    "\n",
    "        input.append(tf.nest.flatten(x[\"inputs\"]))\n",
    "        output.append(tf.nest.flatten(x[\"outputs\"]))\n",
    "else:\n",
    "    print(\"No files found in datasets directory using random data defined before\")\n",
    "    x = json.loads(random_data)\n",
    "    print(\"input:\", x[\"inputs\"], \"\\n\")\n",
    "    print(\"flattened input:\", tf.nest.flatten(x[\"inputs\"]), \"\\n\")\n",
    "\n",
    "    input.append(tf.nest.flatten(x[\"inputs\"]))\n",
    "    output.append(tf.nest.flatten(x[\"outputs\"]))\n",
    "\n",
    "train_ds_input = tf.convert_to_tensor(input)\n",
    "train_ds_output = tf.convert_to_tensor(output)\n",
    "\n",
    "print(\"tensor input:\", train_ds_input)\n",
    "\n"
   ]
  },
  {
   "cell_type": "markdown",
   "metadata": {},
   "source": [
    "## 3. Make or import the model\n",
    "This function will either:\n",
    "* Import a model if it exists in the models folder\n",
    "* Create a new model"
   ]
  },
  {
   "cell_type": "code",
   "execution_count": 24,
   "metadata": {
    "pycharm": {
     "name": "#%%\n"
    }
   },
   "outputs": [
    {
     "name": "stdout",
     "output_type": "stream",
     "text": [
      "Model loaded\n"
     ]
    }
   ],
   "source": [
    "if os.path.exists(os.path.join(os.getcwd(), \"./models/model.h5\")):\n",
    "    model = tf.keras.models.load_model(os.path.join(os.getcwd(), \"./models/model.h5\"))\n",
    "    print(\"Model loaded\")\n",
    "else:\n",
    "    inputs = tf.keras.Input(shape=(20,), name=\"inputs\")\n",
    "    x = tf.keras.layers.Dense(20, activation=tf.nn.relu)(inputs)\n",
    "    outputs = tf.keras.layers.Dense(21, activation=tf.nn.softmax)(x)\n",
    "    model = tf.keras.Model(inputs=inputs, outputs=outputs)\n",
    "    model.compile(loss='binary_crossentropy', optimizer='adam', metrics=[\"accuracy\"])\n",
    "    print(\"Model created\")"
   ]
  },
  {
   "cell_type": "markdown",
   "metadata": {},
   "source": [
    "## 4. Train the model"
   ]
  },
  {
   "cell_type": "markdown",
   "metadata": {},
   "source": [
    "### Make callbacks\n",
    "First we need to make callbacks.  \n",
    "We log the training process in the \"logs\" folder.  \n",
    "We also make checkpoints everytime the accuracy increases so we can load that later if something happens like the machine crashes."
   ]
  },
  {
   "cell_type": "code",
   "execution_count": 25,
   "metadata": {},
   "outputs": [],
   "source": [
    "filepath=\"./models/weights-improvement-{epoch:02d}.hdf5\"\n",
    "\n",
    "my_callbacks = [\n",
    "    tf.keras.callbacks.TensorBoard(log_dir='./logs'),\n",
    "    ModelCheckpoint(filepath, monitor='accuracy', verbose=1, save_best_only=True, mode='max'),\n",
    "]"
   ]
  },
  {
   "cell_type": "markdown",
   "metadata": {},
   "source": [
    "### Train the model\n",
    "Here we get to actually train the model.\n",
    "\n",
    "We use the `train_ds_input` and `train_ds_output` we made in an earlier code block. This is the training data.  \n",
    "For now there is 100 epochs and 100 steps_per_epoch this can be changed anytime. For now I will leave it like this since there is only 2 inputs and it will not train very well yet.  \n",
    "We also need to set the callbacks to `my_callbacks` we made in the above code cell."
   ]
  },
  {
   "cell_type": "code",
   "execution_count": 26,
   "metadata": {
    "pycharm": {
     "name": "#%%\n"
    }
   },
   "outputs": [
    {
     "name": "stdout",
     "output_type": "stream",
     "text": [
      "Epoch 1/100\n",
      "100/100 [==============================] - 1s 9ms/step - loss: -1443.4636 - accuracy: 1.0000\n",
      "\n",
      "Epoch 00001: accuracy improved from -inf to 1.00000, saving model to ./models\\weights-improvement-01.hdf5\n",
      "Epoch 2/100\n",
      "WARNING:tensorflow:Your input ran out of data; interrupting training. Make sure that your dataset or generator can generate at least `steps_per_epoch * epochs` batches (in this case, 10000 batches). You may need to use the repeat() function when building your dataset.\n",
      "100/100 [==============================] - 0s 120us/step - loss: -1443.4636 - accuracy: 1.0000\n",
      "\n",
      "Epoch 00002: accuracy did not improve from 1.00000\n"
     ]
    }
   ],
   "source": [
    "history = model.fit(train_ds_input, train_ds_output, epochs=100, steps_per_epoch=100, batch_size=8000, callbacks=my_callbacks)"
   ]
  },
  {
   "cell_type": "markdown",
   "metadata": {},
   "source": [
    "## 5. Get plot from history\n",
    "From the training process we get all sorts of data we can use to plot to visualize how well the model has trained.\n",
    "\n",
    "In this function we make a plot using matplotlib using the `history` from the model training."
   ]
  },
  {
   "cell_type": "code",
   "execution_count": 27,
   "metadata": {
    "pycharm": {
     "name": "#%%\n"
    }
   },
   "outputs": [
    {
     "data": {
      "image/png": "[encoded data removed]",
      "text/plain": [
       "<Figure size 432x288 with 1 Axes>"
      ]
     },
     "metadata": {
      "needs_background": "light"
     },
     "output_type": "display_data"
    }
   ],
   "source": [
    "plt.plot(history.history['accuracy'])\n",
    "# plt.plot(history.history['val_acc']) # TODO: add validation accuracy\n",
    "plt.title('model accuracy')\n",
    "plt.ylabel('accuracy')\n",
    "plt.xlabel('epoch')\n",
    "plt.legend(['train', 'val'], loc='upper left')\n",
    "plt.show()"
   ]
  },
  {
   "cell_type": "markdown",
   "metadata": {},
   "source": [
    "## 6. Save the model\n",
    "The model is done training and we can save it now, this way we dont have to use checkpoints each time.  \n",
    "This model is reusable for next time we want to maybe train it better or make a prediction."
   ]
  },
  {
   "cell_type": "code",
   "execution_count": 35,
   "metadata": {
    "pycharm": {
     "name": "#%%\n"
    }
   },
   "outputs": [],
   "source": [
    "model.save(\"./models/model.h5\")"
   ]
  },
  {
   "cell_type": "markdown",
   "metadata": {},
   "source": [
    "## 7. Predict something\n",
    "Here we define a functions that uses our trained model to make a prediction on the data (`input`)"
   ]
  },
  {
   "cell_type": "code",
   "execution_count": 37,
   "metadata": {},
   "outputs": [],
   "source": [
    "def predict(input):\n",
    "    # Make array of input\n",
    "    data = []\n",
    "    data.append(tf.nest.flatten(input))\n",
    "    \n",
    "    # Load the model\n",
    "    model = tf.keras.models.load_model(os.path.join(os.getcwd(), \"./models/model.h5\"))\n",
    "    print(\"Model loaded\")\n",
    "    \n",
    "    # Make a prediction\n",
    "    prediction = model.predict(tf.convert_to_tensor(data))\n",
    "    prediction = prediction.tolist()\n",
    "    return tf.nest.pack_sequence_as(get_structure(), prediction[0])\n",
    "\n",
    "def get_structure():\n",
    "    # Check for json files in datasets directory and return outputs for structure\n",
    "    directory = os.path.join(os.getcwd(), \"datasets\")\n",
    "    \n",
    "    if os.path.isdir(directory):\n",
    "        for filename in os.listdir(directory):\n",
    "            if filename.endswith(\".json\"):\n",
    "                x = json.load(open(os.path.join(directory, filename)))\n",
    "                return x[\"outputs\"]\n",
    "            else:\n",
    "                continue\n",
    "    else:\n",
    "        x = json.loads(random_data)\n",
    "        return x[\"outputs\"]"
   ]
  },
  {
   "cell_type": "markdown",
   "metadata": {},
   "source": [
    "At last we can use this function to make a prediction.  \n",
    "The prediction itself is not very readable since it is still a flattened array.  \n",
    "To make the prediction a bit more readable we can use a Tensorflow function [tf.nest.pack_sequence_as()](https://www.tensorflow.org/api_docs/python/tf/nest/pack_sequence_as).  \n",
    "In this function we use the original structure for the output.\n",
    "\n",
    "Right here we only go through all the files in the datasets directory and make a prediction. For other predictions just **import predict** and use the `predict` function to make a prediction of a video."
   ]
  },
  {
   "cell_type": "code",
   "execution_count": 39,
   "metadata": {
    "pycharm": {
     "name": "#%%\n"
    }
   },
   "outputs": [
    {
     "name": "stdout",
     "output_type": "stream",
     "text": [
      "Model loaded\n",
      "WARNING:tensorflow:6 out of the last 6 calls to <function Model.make_predict_function.<locals>.predict_function at 0x0000025FEB30D9D0> triggered tf.function retracing. Tracing is expensive and the excessive number of tracings could be due to (1) creating @tf.function repeatedly in a loop, (2) passing tensors with different shapes, (3) passing Python objects instead of tensors. For (1), please define your @tf.function outside of the loop. For (2), @tf.function has experimental_relax_shapes=True option that relaxes argument shapes that can avoid unnecessary retracing. For (3), please refer to https://www.tensorflow.org/guide/function#controlling_retracing and https://www.tensorflow.org/api_docs/python/tf/function for  more details.\n",
      "{   'angle': 2.4020595415239652e-17,\n",
      "    'distance': 1.972563144726422e-13,\n",
      "    'resultData': [   {   'coordinatesOutput': {   'x': 2.5846332375893726e-25,\n",
      "                                                   'y': 2.4166315855871118e-21,\n",
      "                                                   'z': 5.611667436176224e-26},\n",
      "                          'time': 1.3249467950376927e-22},\n",
      "                      {   'coordinatesOutput': {   'x': 3.854218014270142e-20,\n",
      "                                                   'y': 2.3565539269749607e-23,\n",
      "                                                   'z': 2.1264957643018282e-21},\n",
      "                          'time': 2.5439379130332905e-20},\n",
      "                      {   'coordinatesOutput': {   'x': 3.798582779432954e-17,\n",
      "                                                   'y': 2.660290461261836e-23,\n",
      "                                                   'z': 1.0018622154881997e-17},\n",
      "                          'time': 4.651755640220052e-19},\n",
      "                      {   'coordinatesOutput': {   'x': 5.244968895059052e-21,\n",
      "                                                   'y': 9.029345575131852e-18,\n",
      "                                                   'z': 8.873015373459309e-21},\n",
      "                          'time': 2.948732276328361e-22}],\n",
      "    'rpm': 1.0,\n",
      "    'speed': 1.4559296752889874e-15,\n",
      "    'spinAxis': 5.8430619690559224e-15}\n"
     ]
    }
   ],
   "source": [
    "import pprint\n",
    "\n",
    "my_printer = pprint.PrettyPrinter(indent=4)\n",
    "\n",
    "directory = os.path.join(os.getcwd(), \"datasets\")\n",
    "if os.path.isdir(directory):\n",
    "    for filename in os.listdir(directory):\n",
    "        if filename.endswith(\".json\"):\n",
    "            x = json.load(open(os.path.join(directory, filename)))\n",
    "            my_printer.pprint(predict(x[\"inputs\"]))\n",
    "        else:\n",
    "            continue\n",
    "else:\n",
    "    x = json.loads(random_data)\n",
    "    my_printer.pprint(predict(x[\"inputs\"]))"
   ]
  }
 ],
 "metadata": {
  "kernelspec": {
   "display_name": "Python 3.9.12 ('Keras')",
   "language": "python",
   "name": "python3"
  },
  "language_info": {
   "codemirror_mode": {
    "name": "ipython",
    "version": 3
   },
   "file_extension": ".py",
   "mimetype": "text/x-python",
   "name": "python",
   "nbconvert_exporter": "python",
   "pygments_lexer": "ipython3",
   "version": "3.9.12"
  },
  "vscode": {
   "interpreter": {
    "hash": "c09bc7f71d981f55b3347e1865413f6f28fb8472dda7a4b51be01af2ad4d016d"
   }
  }
 },
 "nbformat": 4,
 "nbformat_minor": 1
}
